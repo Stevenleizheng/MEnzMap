{
 "cells": [
  {
   "cell_type": "code",
   "execution_count": 20,
   "metadata": {},
   "outputs": [],
   "source": [
    "import pandas as pd\n",
    "import matplotlib.pyplot as plt\n",
    "#from IPython.display import display \n",
    "\n",
    "CLEAN_align_website_results_path = '/home/zhenglei/DL_code/enzyme_second_prediction_project/CLEAN_align_website_results.csv'\n",
    "data = pd.read_csv(CLEAN_align_website_results_path)\n",
    "EC_number_modify = list(data[\"EC_number_website\"])\n",
    "uniprot_sp_enzyme_2023_data_EC = list(data[\"uniprot_sp_enzyme_2023_data_EC\"])"
   ]
  },
  {
   "cell_type": "code",
   "execution_count": 21,
   "metadata": {},
   "outputs": [
    {
     "name": "stdout",
     "output_type": "stream",
     "text": [
      "381\n",
      "0.5695067264573991\n"
     ]
    }
   ],
   "source": [
    "###放松条件###\n",
    "###放松严格一模一样的条件，前两位一样就可以，多标签只要有一个一样也可以###\n",
    "match_score = 0\n",
    "for x, y in zip(EC_number_modify, uniprot_sp_enzyme_2023_data_EC):\n",
    "    if \";\" not in y:\n",
    "        if \"-\" not in y:\n",
    "            if x.split(\".\")[0] == y.split(\".\")[0] and x.split(\".\")[1] == y.split(\".\")[1]:\n",
    "                match_score += 1\n",
    "        else:\n",
    "            if y.count(\"-\") == 3 and \";\" not in x:\n",
    "                if x.split(\".\",1)[0] == y.split(\".\",1)[0]:\n",
    "                    match_score += 1\n",
    "            elif y.count(\"-\") == 2 and \";\" not in x:\n",
    "                if x.split(\".\")[0] == y.split(\".\")[0] and x.split(\".\")[1] == y.split(\".\")[1]:\n",
    "                    match_score += 1\n",
    "            elif y.count(\"-\") == 1 and \";\" not in x:\n",
    "                if x.split(\".\")[0] == y.split(\".\")[0] and x.split(\".\")[1] == y.split(\".\")[1]:\n",
    "                    match_score += 1               \n",
    "    else:\n",
    "        if \"-\" not in y:\n",
    "            if x.count(\";\") <= y.count(\";\"):\n",
    "                if set(list(x.split(\";\"))) <= set(list(y.split(\";\"))):\n",
    "                    match_score += 1\n",
    "        else:\n",
    "            if x.count(\";\") <= y.count(\";\"):\n",
    "                if set(list(x.split(\";\"))) <= set(list(y.split(\";\"))):\n",
    "                    match_score += 1\n",
    "print(match_score)\n",
    "print(match_score / len(uniprot_sp_enzyme_2023_data_EC))"
   ]
  },
  {
   "cell_type": "code",
   "execution_count": 22,
   "metadata": {},
   "outputs": [
    {
     "name": "stdout",
     "output_type": "stream",
     "text": [
      "428\n",
      "0.6397608370702541\n"
     ]
    }
   ],
   "source": [
    "###放松条件###\n",
    "###放松严格一模一样的条件，前一位一样就可以，多标签只要有一个一样也可以###\n",
    "match_score = 0\n",
    "for x, y in zip(EC_number_modify, uniprot_sp_enzyme_2023_data_EC):\n",
    "    if \";\" not in y:\n",
    "        if \"-\" not in y:\n",
    "            if x.split(\".\")[0] == y.split(\".\")[0]:\n",
    "                match_score += 1\n",
    "        else:\n",
    "            if y.count(\"-\") == 3 and \";\" not in x:\n",
    "                if x.split(\".\",1)[0] == y.split(\".\",1)[0]:\n",
    "                    match_score += 1\n",
    "            elif y.count(\"-\") == 2 and \";\" not in x:\n",
    "                if x.split(\".\")[0] == y.split(\".\")[0]:\n",
    "                    match_score += 1\n",
    "            elif y.count(\"-\") == 1 and \";\" not in x:\n",
    "                if x.split(\".\")[0] == y.split(\".\")[0]:\n",
    "                    match_score += 1               \n",
    "    else:\n",
    "        if \"-\" not in y:\n",
    "            if x.count(\";\") <= y.count(\";\"):\n",
    "                if set(list(x.split(\";\"))) <= set(list(y.split(\";\"))):\n",
    "                    match_score += 1\n",
    "        else:\n",
    "            if x.count(\";\") <= y.count(\";\"):\n",
    "                if set(list(x.split(\";\"))) <= set(list(y.split(\";\"))):\n",
    "                    match_score += 1\n",
    "print(match_score)\n",
    "print(match_score / len(uniprot_sp_enzyme_2023_data_EC))"
   ]
  }
 ],
 "metadata": {
  "kernelspec": {
   "display_name": "Python 3",
   "language": "python",
   "name": "python3"
  },
  "language_info": {
   "codemirror_mode": {
    "name": "ipython",
    "version": 3
   },
   "file_extension": ".py",
   "mimetype": "text/x-python",
   "name": "python",
   "nbconvert_exporter": "python",
   "pygments_lexer": "ipython3",
   "version": "3.9.18"
  }
 },
 "nbformat": 4,
 "nbformat_minor": 2
}
