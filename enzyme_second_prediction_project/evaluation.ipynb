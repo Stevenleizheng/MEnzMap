{
 "cells": [
  {
   "cell_type": "code",
   "execution_count": 15,
   "metadata": {},
   "outputs": [],
   "source": [
    "import pandas as pd\n",
    "import matplotlib.pyplot as plt\n",
    "#from IPython.display import display \n",
    "\n",
    "CLEAN_align_website_results_path = '/home/zhenglei/DL_code/enzyme_second_prediction_project/CLEAN_align_website_results.csv'\n",
    "data = pd.read_csv(CLEAN_align_website_results_path)\n",
    "EC_number_modify = list(data[\"ours\"])\n",
    "uniprot_sp_enzyme_2023_data_EC = list(data[\"uniprot_sp_enzyme_2023_data_EC\"])"
   ]
  },
  {
   "cell_type": "code",
   "execution_count": 16,
   "metadata": {},
   "outputs": [
    {
     "name": "stdout",
     "output_type": "stream",
     "text": [
      "460\n",
      "0.6875934230194319\n"
     ]
    }
   ],
   "source": [
    "###放松条件###\n",
    "###放松严格一模一样的条件，前两位一样就可以，多标签只要有一个一样也可以###\n",
    "match_score = 0\n",
    "for x, y in zip(EC_number_modify, uniprot_sp_enzyme_2023_data_EC):\n",
    "    if \";\" not in y:\n",
    "        if \"-\" not in y:\n",
    "            if x.split(\".\")[0] == y.split(\".\")[0] and x.split(\".\")[1] == y.split(\".\")[1]:\n",
    "                match_score += 1\n",
    "        else:\n",
    "            if y.count(\"-\") == 3 and \";\" not in x:\n",
    "                if x.split(\".\",1)[0] == y.split(\".\",1)[0]:\n",
    "                    match_score += 1\n",
    "            elif y.count(\"-\") == 2 and \";\" not in x:\n",
    "                if x.split(\".\")[0] == y.split(\".\")[0] and x.split(\".\")[1] == y.split(\".\")[1]:\n",
    "                    match_score += 1\n",
    "            elif y.count(\"-\") == 1 and \";\" not in x:\n",
    "                if x.split(\".\")[0] == y.split(\".\")[0] and x.split(\".\")[1] == y.split(\".\")[1]:\n",
    "                    match_score += 1               \n",
    "    else:\n",
    "        if \"-\" not in y:\n",
    "            if x.count(\";\") <= y.count(\";\"):\n",
    "                if set(list(x.split(\";\"))) <= set(list(y.split(\";\"))):\n",
    "                    match_score += 1\n",
    "        else:\n",
    "            if x.count(\";\") <= y.count(\";\"):\n",
    "                if set(list(x.split(\";\"))) <= set(list(y.split(\";\"))):\n",
    "                    match_score += 1\n",
    "print(match_score)\n",
    "print(match_score / len(uniprot_sp_enzyme_2023_data_EC))"
   ]
  },
  {
   "cell_type": "code",
   "execution_count": 17,
   "metadata": {},
   "outputs": [
    {
     "name": "stdout",
     "output_type": "stream",
     "text": [
      "491\n",
      "0.7339312406576981\n"
     ]
    }
   ],
   "source": [
    "###放松条件###\n",
    "###放松严格一模一样的条件，前一位一样就可以，多标签只要有一个一样也可以###\n",
    "match_score = 0\n",
    "for x, y in zip(EC_number_modify, uniprot_sp_enzyme_2023_data_EC):\n",
    "    if \";\" not in y:\n",
    "        if \"-\" not in y:\n",
    "            if x.split(\".\")[0] == y.split(\".\")[0]:\n",
    "                match_score += 1\n",
    "        else:\n",
    "            if y.count(\"-\") == 3 and \";\" not in x:\n",
    "                if x.split(\".\",1)[0] == y.split(\".\",1)[0]:\n",
    "                    match_score += 1\n",
    "            elif y.count(\"-\") == 2 and \";\" not in x:\n",
    "                if x.split(\".\")[0] == y.split(\".\")[0]:\n",
    "                    match_score += 1\n",
    "            elif y.count(\"-\") == 1 and \";\" not in x:\n",
    "                if x.split(\".\")[0] == y.split(\".\")[0]:\n",
    "                    match_score += 1               \n",
    "    else:\n",
    "        if \"-\" not in y:\n",
    "            if x.count(\";\") <= y.count(\";\"):\n",
    "                if set(list(x.split(\";\"))) <= set(list(y.split(\";\"))):\n",
    "                    match_score += 1\n",
    "        else:\n",
    "            if x.count(\";\") <= y.count(\";\"):\n",
    "                if set(list(x.split(\";\"))) <= set(list(y.split(\";\"))):\n",
    "                    match_score += 1\n",
    "print(match_score)\n",
    "print(match_score / len(uniprot_sp_enzyme_2023_data_EC))"
   ]
  },
  {
   "cell_type": "code",
   "execution_count": 23,
   "metadata": {},
   "outputs": [
    {
     "data": {
      "text/plain": [
       "[0.5695067264573991, 0.523168908819133, 0.7010463378176383]"
      ]
     },
     "execution_count": 23,
     "metadata": {},
     "output_type": "execute_result"
    }
   ],
   "source": [
    "enzyme_number = len(uniprot_sp_enzyme_2023_data_EC)\n",
    "enzyme_number = [enzyme_number] * 3\n",
    "label = [\"CLEAN\",\"ECRECER\",\"SECP\"]\n",
    "second_EC_number = [381,350,469]\n",
    "First_EC_number = [428,416,491]\n",
    "second_EC_percentage = [a / b for a, b in zip(second_EC_number, enzyme_number)]\n",
    "First_EC_percentage = [a / b for a, b in zip(First_EC_number, enzyme_number)]\n",
    "\n",
    "second_EC_percentage"
   ]
  },
  {
   "cell_type": "code",
   "execution_count": 29,
   "metadata": {},
   "outputs": [
    {
     "data": {
      "image/png": "[encoded data removed]",
      "text/plain": [
       "<Figure size 640x480 with 1 Axes>"
      ]
     },
     "metadata": {},
     "output_type": "display_data"
    }
   ],
   "source": [
    "import matplotlib.pyplot as plt\n",
    "bar_width = 0.35\n",
    "\n",
    "# 设置柱状图的位置\n",
    "index = range(len(label))\n",
    "fig, ax = plt.subplots()\n",
    "# 画柱状图\n",
    "plt.bar(index, First_EC_percentage, width=bar_width, label='First EC Number')\n",
    "plt.bar([i + bar_width for i in index], second_EC_percentage, width=bar_width, label='Second EC Number')\n",
    "\n",
    "\n",
    "ax.spines['right'].set_visible(False)\n",
    "ax.spines['top'].set_visible(False)\n",
    "ax.spines['right'].set_linewidth(5)\n",
    "ax.spines['top'].set_linewidth(5)\n",
    "# 添加标签和标题\n",
    "#plt.xlabel('Labels')\n",
    "plt.ylabel('Percentage')\n",
    "#plt.title('First and Second EC Numbers for Each Label')\n",
    "plt.xticks([i + bar_width / 2 for i in index], label)\n",
    "plt.legend()\n",
    "\n",
    "# 显示图形\n",
    "plt.show()"
   ]
  }
 ],
 "metadata": {
  "kernelspec": {
   "display_name": "Python 3",
   "language": "python",
   "name": "python3"
  },
  "language_info": {
   "codemirror_mode": {
    "name": "ipython",
    "version": 3
   },
   "file_extension": ".py",
   "mimetype": "text/x-python",
   "name": "python",
   "nbconvert_exporter": "python",
   "pygments_lexer": "ipython3",
   "version": "3.9.18"
  }
 },
 "nbformat": 4,
 "nbformat_minor": 2
}
