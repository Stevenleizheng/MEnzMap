{
 "cells": [
  {
   "cell_type": "code",
   "execution_count": 1,
   "metadata": {},
   "outputs": [
    {
     "name": "stderr",
     "output_type": "stream",
     "text": [
      "/home/zhenglei/mambaforge/envs/d2l/lib/python3.9/site-packages/tqdm/auto.py:21: TqdmWarning: IProgress not found. Please update jupyter and ipywidgets. See https://ipywidgets.readthedocs.io/en/stable/user_install.html\n",
      "  from .autonotebook import tqdm as notebook_tqdm\n"
     ]
    }
   ],
   "source": [
    "import os\n",
    "import argparse\n",
    "import subprocess\n",
    "import sys\n",
    "import torch\n",
    "import torch.nn as nn\n",
    "import utility as u\n",
    "import models as md\n",
    "import numpy as np\n",
    "import time\n",
    "import pandas as pd"
   ]
  },
  {
   "cell_type": "code",
   "execution_count": 2,
   "metadata": {},
   "outputs": [],
   "source": [
    "input = '/home/zhenglei/DL_code/enzyme_second_prediction_project/test.fasta'\n",
    "output = '/home/zhenglei/DL_code/enzyme_second_prediction_project/result'\n",
    "batch_size = 2\n",
    "device = 'cpu'"
   ]
  },
  {
   "cell_type": "code",
   "execution_count": 3,
   "metadata": {},
   "outputs": [
    {
     "name": "stdout",
     "output_type": "stream",
     "text": [
      "Process 1: Embedding\n",
      "Process 1: Embedding finished. Consumption time: 0h1m35s.\n"
     ]
    }
   ],
   "source": [
    "print('Process 1: Embedding')\n",
    "start =  time.time()\n",
    "id, data = u.data_embedding_vector(input, batch_size, device)\n",
    "torch.save(data, f'{output}/data.pt')\n",
    "end =  time.time()\n",
    "time_str = u.consumption_time(start, end)\n",
    "print(f'Process 1: Embedding finished. Consumption time: {time_str}.')"
   ]
  },
  {
   "cell_type": "code",
   "execution_count": 24,
   "metadata": {},
   "outputs": [
    {
     "name": "stdout",
     "output_type": "stream",
     "text": [
      "Process 2: IsEnzyme prediction\n",
      "Process 2: IsEnzyme prediction finished. Consumption time: 0h0m0s.\n"
     ]
    }
   ],
   "source": [
    "print('Process 2: IsEnzyme prediction')\n",
    "start =  time.time()\n",
    "net = md.MLP_esm3B_1()\n",
    "net.load_state_dict(torch.load(\"./models_param/esm2_3B_MLP_1.pt\"))\n",
    "probs, labels = u.prediction(net, data, batch_size, device)\n",
    "probs = [np.array(n).max() for i in probs for n in i]\n",
    "labels = np.concatenate(labels).tolist()\n",
    "IsEnzyme = u.transfer_name(labels, u.enzyme_dic)\n",
    "result_IsEnzyme = pd.DataFrame({\"id\": id, \"IsEnzyme\":IsEnzyme, \"prob\":probs})\n",
    "result_IsEnzyme.to_csv(f'{output}/result_IsEnzyme.csv',index=False)\n",
    "end =  time.time()\n",
    "time_str = u.consumption_time(start, end)\n",
    "print(f'Process 2: IsEnzyme prediction finished. Consumption time: {time_str}.')"
   ]
  },
  {
   "cell_type": "code",
   "execution_count": 25,
   "metadata": {},
   "outputs": [
    {
     "name": "stdout",
     "output_type": "stream",
     "text": [
      "Process 3: First EC prediction\n",
      "[0.99998677, 0.9975073, 0.996336, 0.9997508, 0.99999785]\n",
      "Process 3: First EC prediction finished. Consumption time: 0h0m0s.\n"
     ]
    },
    {
     "data": {
      "text/html": [
       "<div>\n",
       "<style scoped>\n",
       "    .dataframe tbody tr th:only-of-type {\n",
       "        vertical-align: middle;\n",
       "    }\n",
       "\n",
       "    .dataframe tbody tr th {\n",
       "        vertical-align: top;\n",
       "    }\n",
       "\n",
       "    .dataframe thead th {\n",
       "        text-align: right;\n",
       "    }\n",
       "</style>\n",
       "<table border=\"1\" class=\"dataframe\">\n",
       "  <thead>\n",
       "    <tr style=\"text-align: right;\">\n",
       "      <th></th>\n",
       "      <th>id</th>\n",
       "      <th>First_EC</th>\n",
       "      <th>prob</th>\n",
       "    </tr>\n",
       "  </thead>\n",
       "  <tbody>\n",
       "    <tr>\n",
       "      <th>0</th>\n",
       "      <td>PVP0</td>\n",
       "      <td>non_enzyme</td>\n",
       "      <td>0.999745</td>\n",
       "    </tr>\n",
       "    <tr>\n",
       "      <th>1</th>\n",
       "      <td>PVP1</td>\n",
       "      <td>non_enzyme</td>\n",
       "      <td>0.999649</td>\n",
       "    </tr>\n",
       "    <tr>\n",
       "      <th>2</th>\n",
       "      <td>nonPVP0</td>\n",
       "      <td>2</td>\n",
       "      <td>0.999987</td>\n",
       "    </tr>\n",
       "    <tr>\n",
       "      <th>3</th>\n",
       "      <td>nonPVP1</td>\n",
       "      <td>non_enzyme</td>\n",
       "      <td>0.964391</td>\n",
       "    </tr>\n",
       "    <tr>\n",
       "      <th>4</th>\n",
       "      <td>en1</td>\n",
       "      <td>non_enzyme</td>\n",
       "      <td>0.871626</td>\n",
       "    </tr>\n",
       "    <tr>\n",
       "      <th>5</th>\n",
       "      <td>en4</td>\n",
       "      <td>4</td>\n",
       "      <td>0.997507</td>\n",
       "    </tr>\n",
       "    <tr>\n",
       "      <th>6</th>\n",
       "      <td>en5.1.1</td>\n",
       "      <td>5</td>\n",
       "      <td>0.996336</td>\n",
       "    </tr>\n",
       "    <tr>\n",
       "      <th>7</th>\n",
       "      <td>en6.2.1.12</td>\n",
       "      <td>6</td>\n",
       "      <td>0.999751</td>\n",
       "    </tr>\n",
       "    <tr>\n",
       "      <th>8</th>\n",
       "      <td>en7.6.2</td>\n",
       "      <td>7</td>\n",
       "      <td>0.999998</td>\n",
       "    </tr>\n",
       "  </tbody>\n",
       "</table>\n",
       "</div>"
      ],
      "text/plain": [
       "           id    First_EC      prob\n",
       "0        PVP0  non_enzyme  0.999745\n",
       "1        PVP1  non_enzyme  0.999649\n",
       "2     nonPVP0           2  0.999987\n",
       "3     nonPVP1  non_enzyme  0.964391\n",
       "4         en1  non_enzyme  0.871626\n",
       "5         en4           4  0.997507\n",
       "6     en5.1.1           5  0.996336\n",
       "7  en6.2.1.12           6  0.999751\n",
       "8     en7.6.2           7  0.999998"
      ]
     },
     "execution_count": 25,
     "metadata": {},
     "output_type": "execute_result"
    }
   ],
   "source": [
    "print('Process 3: First EC prediction')\n",
    "start =  time.time()\n",
    "bool_list = result_IsEnzyme['IsEnzyme'] == 'enzyme'\n",
    "bool_tensor = torch.tensor(bool_list)\n",
    "enzyme_data = data[bool_tensor]\n",
    "net = md.MLP_esm3B_2()\n",
    "net.load_state_dict(torch.load(\"./models_param/esm2_3B_MLP_2.pt\"))\n",
    "probs, labels = u.prediction(net, enzyme_data, batch_size, device)\n",
    "probs = [np.array(n).max() for i in probs for n in i]\n",
    "print(probs)\n",
    "labels = np.concatenate(labels).tolist()\n",
    "First_EC = u.transfer_name(labels, u.first_enzyme_dic)\n",
    "result_IsEnzyme.loc[bool_list,'IsEnzyme'] = First_EC\n",
    "result_IsEnzyme.loc[bool_list,'prob'] = probs\n",
    "result_First_EC = result_IsEnzyme\n",
    "result_First_EC.rename(columns={'IsEnzyme':'First_EC'}, inplace=True)\n",
    "result_First_EC.to_csv(f'{output}/result_First_EC.csv',index=False, columns=['id','First_EC','prob'])\n",
    "end =  time.time()\n",
    "time_str = u.consumption_time(start, end)\n",
    "print(f'Process 3: First EC prediction finished. Consumption time: {time_str}.')\n",
    "result_First_EC"
   ]
  },
  {
   "cell_type": "code",
   "execution_count": 26,
   "metadata": {},
   "outputs": [
    {
     "name": "stdout",
     "output_type": "stream",
     "text": [
      "Process 4: Second EC prediction\n",
      "Process 3: Second EC prediction finished. Consumption time: 0h0m0s.\n"
     ]
    }
   ],
   "source": [
    "print('Process 4: Second EC prediction')\n",
    "start =  time.time()\n",
    "First_EC_value = result_First_EC['First_EC'].tolist()\n",
    "Second_EC_value = []\n",
    "Second_EC_prob = []\n",
    "for i, n in enumerate(First_EC_value):\n",
    "    if n == 'non_enzyme':\n",
    "        Second_EC_value.append(n)\n",
    "        Second_EC_prob.append(0)\n",
    "    elif n == '1':\n",
    "        net = md.MLP_esm3B_3()\n",
    "        net.load_state_dict(torch.load(\"./models_param/esm2_3B_MLP_3.pt\"))\n",
    "        Second_EC_data = data[[i]]\n",
    "        probs, labels = u.prediction(net, Second_EC_data, batch_size, device)\n",
    "        probs = [np.array(na).max() for ia in probs for na in ia]\n",
    "        labels = labels[0]\n",
    "        Second_EC_value.append(u.transfer_name(labels, u.second_enzyme_first_dic)[0])\n",
    "        Second_EC_prob.append(probs[0])\n",
    "    elif n == '2':\n",
    "        net = md.MLP_esm3B_4()\n",
    "        net.load_state_dict(torch.load(\"./models_param/esm2_3B_MLP_4.pt\"))\n",
    "        Second_EC_data = data[[i]]\n",
    "        probs, labels = u.prediction(net, Second_EC_data, batch_size, device)\n",
    "        probs = [np.array(na).max() for ia in probs for na in ia]\n",
    "        labels = labels[0]\n",
    "        Second_EC_value.append(u.transfer_name(labels, u.second_enzyme_second_dic)[0])\n",
    "        Second_EC_prob.append(probs[0])\n",
    "    elif n == '3':\n",
    "        net = md.MLP_esm3B_5()\n",
    "        net.load_state_dict(torch.load(\"./models_param/esm2_3B_MLP_5.pt\"))\n",
    "        Second_EC_data = data[[i]]\n",
    "        probs, labels = u.prediction(net, Second_EC_data, batch_size, device)\n",
    "        probs = [np.array(na).max() for ia in probs for na in ia]\n",
    "        labels = labels[0]\n",
    "        Second_EC_value.append(u.transfer_name(labels, u.second_enzyme_third_dic)[0])\n",
    "        Second_EC_prob.append(probs[0])\n",
    "    elif n == '4':\n",
    "        net = md.MLP_esm3B_6()\n",
    "        net.load_state_dict(torch.load(\"./models_param/esm2_3B_MLP_6.pt\"))\n",
    "        Second_EC_data = data[[i]]\n",
    "        probs, labels = u.prediction(net, Second_EC_data, batch_size, device)\n",
    "        probs = [np.array(na).max() for ia in probs for na in ia]\n",
    "        labels = labels[0]\n",
    "        Second_EC_value.append(u.transfer_name(labels, u.second_enzyme_fourth_dic)[0])\n",
    "        Second_EC_prob.append(probs[0])\n",
    "    elif n == '5':\n",
    "        net = md.MLP_esm3B_7()\n",
    "        net.load_state_dict(torch.load(\"./models_param/esm2_3B_MLP_7.pt\"))\n",
    "        Second_EC_data = data[[i]]\n",
    "        probs, labels = u.prediction(net, Second_EC_data, batch_size, device)\n",
    "        probs = [np.array(na).max() for ia in probs for na in ia]\n",
    "        labels = labels[0]\n",
    "        Second_EC_value.append(u.transfer_name(labels, u.second_enzyme_fiveth_dic)[0])\n",
    "        Second_EC_prob.append(probs[0])\n",
    "    elif n == '6':\n",
    "        net = md.MLP_esm3B_8()\n",
    "        net.load_state_dict(torch.load(\"./models_param/esm2_3B_MLP_8.pt\"))\n",
    "        Second_EC_data = data[[i]]\n",
    "        probs, labels = u.prediction(net, Second_EC_data, batch_size, device)\n",
    "        probs = [np.array(na).max() for ia in probs for na in ia]\n",
    "        labels = labels[0]\n",
    "        Second_EC_value.append(u.transfer_name(labels, u.second_enzyme_sixth_dic)[0])\n",
    "        Second_EC_prob.append(probs[0])\n",
    "    elif n == '7':\n",
    "        net = md.MLP_esm3B_9()\n",
    "        net.load_state_dict(torch.load(\"./models_param/esm2_3B_MLP_9.pt\"))\n",
    "        Second_EC_data = data[[i]]\n",
    "        probs, labels = u.prediction(net, Second_EC_data, batch_size, device)\n",
    "        probs = [np.array(na).max() for ia in probs for na in ia]\n",
    "        labels = labels[0]\n",
    "        Second_EC_value.append(u.transfer_name(labels, u.second_enzyme_seventh_dic)[0])\n",
    "        Second_EC_prob.append(probs[0])\n",
    "result_Second_EC = pd.DataFrame({\"id\": id, \"Second_EC\":Second_EC_value, \"prob\":Second_EC_prob})\n",
    "result_Second_EC.to_csv(f'{output}/result_Second_EC.csv',index=False)\n",
    "end =  time.time()\n",
    "time_str = u.consumption_time(start, end)\n",
    "print(f'Process 3: Second EC prediction finished. Consumption time: {time_str}.')"
   ]
  }
 ],
 "metadata": {
  "kernelspec": {
   "display_name": "Python 3",
   "language": "python",
   "name": "python3"
  },
  "language_info": {
   "codemirror_mode": {
    "name": "ipython",
    "version": 3
   },
   "file_extension": ".py",
   "mimetype": "text/x-python",
   "name": "python",
   "nbconvert_exporter": "python",
   "pygments_lexer": "ipython3",
   "version": "3.9.18"
  }
 },
 "nbformat": 4,
 "nbformat_minor": 2
}
